{
 "cells": [
  {
   "cell_type": "code",
   "execution_count": null,
   "id": "3c7dffd3",
   "metadata": {},
   "outputs": [],
   "source": [
    "#! /bin/bash\n",
    "importar scipy # para números aleatorios\n",
    "\n",
    "def construir_población(N, p):\n",
    "    \" \" \" cada cromosoma tiene un alelo y N es el numero de individuos\n",
    "    \" \" \"\n",
    "   # En esta funcion se estan creando tuplas con la lista de los alelos A ya segun el numero de individuos\n",
    "    población = []\n",
    "    for  i  in range(N):    # se crea un bucle for casual con las variables ay A, para ir agregando alelos aleatorios\n",
    "                         # al final de cada alelo ao A en construir poblacion\n",
    "        alelo1 = \" A \"    \n",
    "        if  scipy.random.rand () > p: # la probabilidad de tener alelos a y A debe ser mayor a 0.47\n",
    "            alelo1 = \" a \"\n",
    "        alelo2 = \" A \"\n",
    "        si  scipy.random.rand () > p:\n",
    "            alelo2 = \" a \"\n",
    "        población.append (( alelo 1 , alelo 2 ))\n",
    "    población de retorno\n",
    "\n",
    "build_population(N = 40, p = 0.47) # para 40 individuos con probabilidad de 0.47, devolver la poblacion con alelos Aa y aA al azar\n"
   ]
  },
  {
   "cell_type": "code",
   "execution_count": null,
   "id": "31d77a17",
   "metadata": {},
   "outputs": [],
   "source": [
    "# FUNCIÓN 2. Conteo de pares de alelos\n",
    "def computar_frecuencias(población):\n",
    "    # Cuenta los genotipos y devuelve un diccionario de frecuencias genotípicas según los alelos que haya\n",
    "    AA = población.recuento (( \"A\" , \"A\" ))\n",
    "    Aa = población.recuento (( \"A\" , \"a\" ))\n",
    "    aA = población.recuento (( \"a\" , \"A\" ))\n",
    "    aa = población.recuento (( \"a\" , \"a\" ))\n",
    "    return({ \" AA \" : AA, \" aa \" : aa, \" Aa \" : Aa, \" aA \" : aA}) # forma el diccionario\n",
    "my_pop = build_population(600, 0.23)\n",
    "fmy_pop = compute_frequencies(my_pop) # ver las frecuencias de los alelos aleatorios creados en la funcion 1\n",
    "imprimir (fmy_pop)\n",
    "print (( 600 - fmy_pop[\"aa\"]) / 600 ) #ver la cantidad de aa en una poblacion de 600"
   ]
  },
  {
   "cell_type": "code",
   "execution_count": null,
   "id": "ef1d6724",
   "metadata": {},
   "outputs": [],
   "source": [
    "# FUNCIÓN 3 . Creacion de nueva poblacion\n",
    "def reproducir_población(población):\n",
    "    #Para cada N producir una nueva generacion al azar\n",
    "    nueva_generacion = []\n",
    "    N = len(población)\n",
    "    para i en el rango (N):\n",
    "        # entero aleatorio entre 0 y N- 1\n",
    "        dad = scipy.random.randint(N) #recibe cromosoma de papa\n",
    "        mom = scipy.random.randint(N) #recibe cromosa de mama\n",
    "        #ver que cromosoma viene de mama\n",
    "        chr_mom = scipy.random.randint( 2 )\n",
    "        descendencia = (poblacion[mama][chr_mom], poblacion[papa][ 1 - chr_mom]) #ver la descendencia entre mama y papa\n",
    "        #si descendencia == (\"a\", \"a\"):\n",
    "          #Siguiente()\n",
    "        new_generation.append(offspring) #ir creando las nuevas generaciones al final de cada cromosoma\n",
    "    volver nueva_generación\n",
    "imprimir (compute_frequencies (my_pop ))\n",
    "new_pop = reproducir_population(my_pop) # ver la nueva reproduccion en cada individuo, segun los alelos generados de mama y papa\n",
    "new_pop2 = reproducir_población(new_pop)\n",
    "imprimir (compute_frequencies (new_pop))\n",
    "imprimir (compute_frequencies (new_pop2))"
   ]
  }
 ],
 "metadata": {
  "kernelspec": {
   "display_name": "Python 3 (ipykernel)",
   "language": "python",
   "name": "python3"
  },
  "language_info": {
   "codemirror_mode": {
    "name": "ipython",
    "version": 3
   },
   "file_extension": ".py",
   "mimetype": "text/x-python",
   "name": "python",
   "nbconvert_exporter": "python",
   "pygments_lexer": "ipython3",
   "version": "3.9.12"
  }
 },
 "nbformat": 4,
 "nbformat_minor": 5
}
